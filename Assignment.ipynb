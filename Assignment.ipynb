{
 "cells": [
  {
   "cell_type": "markdown",
   "id": "94fbfef5-d8eb-45ba-a8dc-6f7eb77a8ee2",
   "metadata": {
    "tags": []
   },
   "source": [
    "# My Jupyter Notebook on IBM Watson Studio"
   ]
  },
  {
   "cell_type": "markdown",
   "id": "f25786e9-9db2-4263-95d8-fc76ececf5cf",
   "metadata": {},
   "source": [
    "**Dhyanesh Khakharodiya**\n",
    "\n",
    "Data Science Enthusiast"
   ]
  },
  {
   "cell_type": "markdown",
   "id": "a26d1bca-1830-44ff-9da6-57c74ab1546c",
   "metadata": {},
   "source": [
    "*I am interested in data science because I am a curious person who loves to learn new things and also data science allows me to gain insights from data and act as a story teller.*"
   ]
  },
  {
   "cell_type": "markdown",
   "id": "bfe1e3a3-5114-4722-b780-484f3ea48efb",
   "metadata": {
    "tags": []
   },
   "source": [
    "### The following code tells whether the number is odd or even"
   ]
  },
  {
   "cell_type": "code",
   "execution_count": 2,
   "id": "9183da0e-4f15-4fb8-825b-afd52a61ba00",
   "metadata": {},
   "outputs": [
    {
     "name": "stdout",
     "output_type": "stream",
     "text": [
      "odd\n"
     ]
    }
   ],
   "source": [
    "def odd_or_even(num):\n",
    "    if (num % 2) == 0:\n",
    "        return \"even\"\n",
    "    else:\n",
    "        return \"odd\"\n",
    "    \n",
    "op=odd_or_even(7)\n",
    "print(op)\n"
   ]
  },
  {
   "cell_type": "markdown",
   "id": "80287bc6-266b-4899-ba90-1d26c9cba9c0",
   "metadata": {},
   "source": [
    "Some of the programming languages used for data science:\n",
    "* Python\n",
    "* R\n",
    "* SQL\n",
    "<hr>\n",
    "\n",
    "Steps involved in data scince process:\n",
    "1. Data Gathering\n",
    "2. Storing the data\n",
    "3. Preparing/processing the data\n",
    "4. Describe(EDA) the data\n",
    "5. Model the data\n",
    "<hr/>\n",
    "\n",
    "[Download data from Kaggle](https://www.kaggle.com/)"
   ]
  },
  {
   "cell_type": "code",
   "execution_count": null,
   "id": "0a2bb835-c14b-4086-ad22-33e4695b49bd",
   "metadata": {},
   "outputs": [],
   "source": []
  }
 ],
 "metadata": {
  "kernelspec": {
   "display_name": "Python",
   "language": "python",
   "name": "conda-env-python-py"
  },
  "language_info": {
   "codemirror_mode": {
    "name": "ipython",
    "version": 3
   },
   "file_extension": ".py",
   "mimetype": "text/x-python",
   "name": "python",
   "nbconvert_exporter": "python",
   "pygments_lexer": "ipython3",
   "version": "3.7.12"
  }
 },
 "nbformat": 4,
 "nbformat_minor": 5
}
